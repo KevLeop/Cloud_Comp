{
  "nbformat": 4,
  "nbformat_minor": 0,
  "metadata": {
    "colab": {
      "name": "contador.py",
      "version": "0.3.2",
      "provenance": [],
      "collapsed_sections": [],
      "include_colab_link": true
    },
    "kernelspec": {
      "name": "python3",
      "display_name": "Python 3"
    }
  },
  "cells": [
    {
      "cell_type": "markdown",
      "metadata": {
        "id": "view-in-github",
        "colab_type": "text"
      },
      "source": [
        "<a href=\"https://colab.research.google.com/github/KevLeop/Cloud_Comp/blob/master/contador_py.ipynb\" target=\"_parent\"><img src=\"https://colab.research.google.com/assets/colab-badge.svg\" alt=\"Open In Colab\"/></a>"
      ]
    },
    {
      "cell_type": "code",
      "metadata": {
        "id": "4UQZ9Ip3vVAY",
        "colab_type": "code",
        "colab": {}
      },
      "source": [
        "import re, operator\n",
        "\n",
        "# keys = palabras, vals = frecuencia de palabras\n",
        "freqlist={}\n",
        "\n",
        "inF = open('texto.txt', \"r\", encoding=\"utf-8\")\n",
        "s=inF.read()\n",
        "inF.close()\n",
        "\n",
        "s=s.lower()\n",
        "\n",
        "wordlist = re.split(r'\\W',s);\n",
        "for wd in wordlist:\n",
        "     if wd in freqlist:\n",
        "         freqlist[wd]=freqlist[wd]+1\n",
        "     else:\n",
        "         freqlist[wd]=1\n",
        "\n",
        "f=open('cont.txt', \"w\")\n",
        "for k,v in sorted(freqlist.items(), key=operator.itemgetter(1) ,reverse=True):\n",
        "\t#f=open('cont.txt', \"w\")\n",
        "\tf.write(k + \" → \" + str(v) + '\\n')\n",
        "\n",
        "f.close()\n",
        "    #print(str(v) + \" → \" + k + '\\n')"
      ],
      "execution_count": 0,
      "outputs": []
    },
    {
      "cell_type": "code",
      "metadata": {
        "id": "UmlBwwRNz_dL",
        "colab_type": "code",
        "colab": {
          "base_uri": "https://localhost:8080/",
          "height": 122
        },
        "outputId": "c62bacb9-4c40-4a83-83e3-7bda188d6535"
      },
      "source": [
        "from google.colab import drive\n",
        "drive.mount('/content/drive')"
      ],
      "execution_count": 3,
      "outputs": [
        {
          "output_type": "stream",
          "text": [
            "Go to this URL in a browser: https://accounts.google.com/o/oauth2/auth?client_id=947318989803-6bn6qk8qdgf4n4g3pfee6491hc0brc4i.apps.googleusercontent.com&redirect_uri=urn%3Aietf%3Awg%3Aoauth%3A2.0%3Aoob&scope=email%20https%3A%2F%2Fwww.googleapis.com%2Fauth%2Fdocs.test%20https%3A%2F%2Fwww.googleapis.com%2Fauth%2Fdrive%20https%3A%2F%2Fwww.googleapis.com%2Fauth%2Fdrive.photos.readonly%20https%3A%2F%2Fwww.googleapis.com%2Fauth%2Fpeopleapi.readonly&response_type=code\n",
            "\n",
            "Enter your authorization code:\n",
            "··········\n",
            "Mounted at /content/drive\n"
          ],
          "name": "stdout"
        }
      ]
    }
  ]
}